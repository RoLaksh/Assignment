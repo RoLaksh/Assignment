{
 "cells": [
  {
   "cell_type": "code",
   "execution_count": 22,
   "id": "ad10c52d-10d4-4ec8-9a47-41e6a18371fa",
   "metadata": {},
   "outputs": [],
   "source": [
    "d = {\"Key\" : \"Str\"}"
   ]
  },
  {
   "cell_type": "code",
   "execution_count": 23,
   "id": "43312a3a-86ae-4fbf-ba79-8f3b696efcd2",
   "metadata": {},
   "outputs": [
    {
     "data": {
      "text/plain": [
       "{'Key': 'Str'}"
      ]
     },
     "execution_count": 23,
     "metadata": {},
     "output_type": "execute_result"
    }
   ],
   "source": [
    "d"
   ]
  },
  {
   "cell_type": "code",
   "execution_count": 24,
   "id": "116927a9-d0d5-418d-8e79-42a025f74603",
   "metadata": {},
   "outputs": [],
   "source": [
    "d2 = {\"Name\" : \"Rohit\", \"Email\" : \"RLaksh1432@gmail.com\", \"Mbl No\" : 1432000254, 143 : \"ILoveYou\", True : 143251}"
   ]
  },
  {
   "cell_type": "code",
   "execution_count": 25,
   "id": "f29f0961-0a26-492e-9ff6-8c29017127ed",
   "metadata": {},
   "outputs": [
    {
     "data": {
      "text/plain": [
       "{'Name': 'Rohit',\n",
       " 'Email': 'RLaksh1432@gmail.com',\n",
       " 'Mbl No': 1432000254,\n",
       " 143: 'ILoveYou',\n",
       " True: 143251}"
      ]
     },
     "execution_count": 25,
     "metadata": {},
     "output_type": "execute_result"
    }
   ],
   "source": [
    "d2"
   ]
  },
  {
   "cell_type": "code",
   "execution_count": 26,
   "id": "2da9ee53-e7f4-4929-8605-7f25a9fea75e",
   "metadata": {},
   "outputs": [
    {
     "data": {
      "text/plain": [
       "5"
      ]
     },
     "execution_count": 26,
     "metadata": {},
     "output_type": "execute_result"
    }
   ],
   "source": [
    "len(d2)"
   ]
  },
  {
   "cell_type": "code",
   "execution_count": 27,
   "id": "1f8d79bf-efba-4c0f-8e3b-254dbb20e8b9",
   "metadata": {},
   "outputs": [
    {
     "data": {
      "text/plain": [
       "'ILoveYou'"
      ]
     },
     "execution_count": 27,
     "metadata": {},
     "output_type": "execute_result"
    }
   ],
   "source": [
    "d2[143]"
   ]
  },
  {
   "cell_type": "code",
   "execution_count": 28,
   "id": "af2709b8-8965-4fec-b369-46871085cb8b",
   "metadata": {},
   "outputs": [
    {
     "data": {
      "text/plain": [
       "'Rohit'"
      ]
     },
     "execution_count": 28,
     "metadata": {},
     "output_type": "execute_result"
    }
   ],
   "source": [
    "d2[\"Name\"]"
   ]
  },
  {
   "cell_type": "code",
   "execution_count": 29,
   "id": "a6bc4134-0aea-46a1-abf0-ad3240354490",
   "metadata": {},
   "outputs": [
    {
     "data": {
      "text/plain": [
       "143251"
      ]
     },
     "execution_count": 29,
     "metadata": {},
     "output_type": "execute_result"
    }
   ],
   "source": [
    "d2[1]"
   ]
  },
  {
   "cell_type": "code",
   "execution_count": 30,
   "id": "109a13f8-852e-4ecc-b843-6c77af01457e",
   "metadata": {},
   "outputs": [],
   "source": [
    "d3 = {\"Name\" : \"ro\", \"Email\" : \"rolaskhgamil.com\", \"Name\" : \"Rohit\"}"
   ]
  },
  {
   "cell_type": "code",
   "execution_count": 31,
   "id": "158d5ea7-ddff-41ac-9198-33688c9c075c",
   "metadata": {},
   "outputs": [
    {
     "data": {
      "text/plain": [
       "{'Name': 'Rohit', 'Email': 'rolaskhgamil.com'}"
      ]
     },
     "execution_count": 31,
     "metadata": {},
     "output_type": "execute_result"
    }
   ],
   "source": [
    "d3"
   ]
  },
  {
   "cell_type": "code",
   "execution_count": 32,
   "id": "9701908c-8603-4266-a891-473eb5bd1c72",
   "metadata": {},
   "outputs": [
    {
     "data": {
      "text/plain": [
       "'Rohit'"
      ]
     },
     "execution_count": 32,
     "metadata": {},
     "output_type": "execute_result"
    }
   ],
   "source": [
    "d3[\"Name\"]"
   ]
  },
  {
   "cell_type": "code",
   "execution_count": 37,
   "id": "a8baba9d-0930-41fd-b6d1-74ac0ce0c48d",
   "metadata": {},
   "outputs": [],
   "source": [
    "d4 = {\"PwSkill\" : \"DataScience\", \"Course\" :[\"Pythan\", \"ML\", \"Data_Analytics\", \"Statistics\"]}"
   ]
  },
  {
   "cell_type": "code",
   "execution_count": 38,
   "id": "d7c124f6-34c8-49f3-adc7-7dff59a0f4bd",
   "metadata": {},
   "outputs": [
    {
     "data": {
      "text/plain": [
       "{'PwSkill': 'DataScience',\n",
       " 'Course': ['Pythan', 'ML', 'Data_Analytics', 'Statistics']}"
      ]
     },
     "execution_count": 38,
     "metadata": {},
     "output_type": "execute_result"
    }
   ],
   "source": [
    "d4"
   ]
  },
  {
   "cell_type": "code",
   "execution_count": 40,
   "id": "6e541439-4dc5-45f9-9211-898030543910",
   "metadata": {},
   "outputs": [
    {
     "data": {
      "text/plain": [
       "['Pythan', 'ML', 'Data_Analytics', 'Statistics']"
      ]
     },
     "execution_count": 40,
     "metadata": {},
     "output_type": "execute_result"
    }
   ],
   "source": [
    "d4[\"Course\"]"
   ]
  },
  {
   "cell_type": "code",
   "execution_count": 41,
   "id": "80e70825-88c3-4004-a1ef-c2516822ffbd",
   "metadata": {},
   "outputs": [
    {
     "data": {
      "text/plain": [
       "'Data_Analytics'"
      ]
     },
     "execution_count": 41,
     "metadata": {},
     "output_type": "execute_result"
    }
   ],
   "source": [
    "d4[\"Course\"][2]"
   ]
  },
  {
   "cell_type": "code",
   "execution_count": 42,
   "id": "7dd7a9b6-6f71-4cfa-b998-eb4809e60643",
   "metadata": {},
   "outputs": [],
   "source": [
    "d5 = {\"Number\" : [ 1,5,6,4,78,54], \"Assignment\" : (1,2,3,4,5,6), \"Launch_date\":(28,12,14), \"class_time\" : {\"web_dev\" : 8, \"Data Science Master\" : 8, \"java with dsa and system design\" : 7}}"
   ]
  },
  {
   "cell_type": "code",
   "execution_count": 44,
   "id": "8cd7b305-718f-4ecb-a80b-233574aa1012",
   "metadata": {},
   "outputs": [
    {
     "data": {
      "text/plain": [
       "{'Number': [1, 5, 6, 4, 78, 54],\n",
       " 'Assignment': (1, 2, 3, 4, 5, 6),\n",
       " 'Launch_date': (28, 12, 14),\n",
       " 'class_time': {'web_dev': 8,\n",
       "  'Data Science Master': 8,\n",
       "  'java with dsa and system design': 7}}"
      ]
     },
     "execution_count": 44,
     "metadata": {},
     "output_type": "execute_result"
    }
   ],
   "source": [
    "d5"
   ]
  },
  {
   "cell_type": "code",
   "execution_count": 63,
   "id": "ccefebf3-9237-4a54-931d-c19d900cbb6f",
   "metadata": {},
   "outputs": [
    {
     "data": {
      "text/plain": [
       "7"
      ]
     },
     "execution_count": 63,
     "metadata": {},
     "output_type": "execute_result"
    }
   ],
   "source": [
    "d5[\"class_time\"]['java with dsa and system design'] ##set"
   ]
  },
  {
   "cell_type": "code",
   "execution_count": 61,
   "id": "4ed52913-c01c-4852-a11a-a6178aed85e8",
   "metadata": {},
   "outputs": [
    {
     "data": {
      "text/plain": [
       "12"
      ]
     },
     "execution_count": 61,
     "metadata": {},
     "output_type": "execute_result"
    }
   ],
   "source": [
    "d5['Launch_date'][1] ##Tuple"
   ]
  },
  {
   "cell_type": "code",
   "execution_count": 62,
   "id": "32046d7d-429b-4306-a63b-dcf87f4794f2",
   "metadata": {},
   "outputs": [
    {
     "data": {
      "text/plain": [
       "6"
      ]
     },
     "execution_count": 62,
     "metadata": {},
     "output_type": "execute_result"
    }
   ],
   "source": [
    "d5['Number'][2] ##List"
   ]
  },
  {
   "cell_type": "code",
   "execution_count": 64,
   "id": "019146bc-351c-45a2-90bb-48ad1d66eb26",
   "metadata": {},
   "outputs": [
    {
     "data": {
      "text/plain": [
       "{'Number': [1, 5, 6, 4, 78, 54],\n",
       " 'Assignment': (1, 2, 3, 4, 5, 6),\n",
       " 'Launch_date': (28, 12, 14),\n",
       " 'class_time': {'web_dev': 8,\n",
       "  'Data Science Master': 8,\n",
       "  'java with dsa and system design': 7}}"
      ]
     },
     "execution_count": 64,
     "metadata": {},
     "output_type": "execute_result"
    }
   ],
   "source": [
    "d5"
   ]
  },
  {
   "cell_type": "code",
   "execution_count": 67,
   "id": "16d926d0-ffb6-49ba-9201-08224941c45b",
   "metadata": {},
   "outputs": [],
   "source": [
    "d5[\"friends\"] = [\"Amol\", \"Tushar\"]"
   ]
  },
  {
   "cell_type": "code",
   "execution_count": 68,
   "id": "c71ada72-4a46-4162-b7d9-10ac027eb0b3",
   "metadata": {},
   "outputs": [
    {
     "data": {
      "text/plain": [
       "{'Number': [1, 5, 6, 4, 78, 54],\n",
       " 'Assignment': (1, 2, 3, 4, 5, 6),\n",
       " 'Launch_date': (28, 12, 14),\n",
       " 'class_time': {'web_dev': 8,\n",
       "  'Data Science Master': 8,\n",
       "  'java with dsa and system design': 7},\n",
       " 'friends': ['Amol', 'Tushar']}"
      ]
     },
     "execution_count": 68,
     "metadata": {},
     "output_type": "execute_result"
    }
   ],
   "source": [
    "d5"
   ]
  },
  {
   "cell_type": "code",
   "execution_count": 71,
   "id": "133fb257-139d-476c-a55b-fcf6542f2aa2",
   "metadata": {},
   "outputs": [],
   "source": [
    "d5[\"Assignment\"] = (8,5,5,4,6,65)"
   ]
  },
  {
   "cell_type": "code",
   "execution_count": 72,
   "id": "096c9c64-8881-488e-b41d-9fef8612af3f",
   "metadata": {},
   "outputs": [
    {
     "data": {
      "text/plain": [
       "{'Number': [1, 5, 6, 4, 78, 54],\n",
       " 'Assignment': (8, 5, 5, 4, 6, 65),\n",
       " 'Launch_date': (28, 12, 14),\n",
       " 'class_time': {'web_dev': 8,\n",
       "  'Data Science Master': 8,\n",
       "  'java with dsa and system design': 7},\n",
       " 'friends': ['Amol', 'Tushar']}"
      ]
     },
     "execution_count": 72,
     "metadata": {},
     "output_type": "execute_result"
    }
   ],
   "source": [
    "d5"
   ]
  },
  {
   "cell_type": "code",
   "execution_count": 73,
   "id": "f1d1c767-8660-45a0-9e53-fa3729c12794",
   "metadata": {},
   "outputs": [],
   "source": [
    "del d5 [\"Assignment\"]"
   ]
  },
  {
   "cell_type": "code",
   "execution_count": 74,
   "id": "e6514a04-4318-474b-9f7b-fe0f6b75acff",
   "metadata": {},
   "outputs": [
    {
     "data": {
      "text/plain": [
       "{'Number': [1, 5, 6, 4, 78, 54],\n",
       " 'Launch_date': (28, 12, 14),\n",
       " 'class_time': {'web_dev': 8,\n",
       "  'Data Science Master': 8,\n",
       "  'java with dsa and system design': 7},\n",
       " 'friends': ['Amol', 'Tushar']}"
      ]
     },
     "execution_count": 74,
     "metadata": {},
     "output_type": "execute_result"
    }
   ],
   "source": [
    "d5"
   ]
  },
  {
   "cell_type": "code",
   "execution_count": 75,
   "id": "73881cb3-681a-4b54-837c-48176cca14fe",
   "metadata": {},
   "outputs": [
    {
     "data": {
      "text/plain": [
       "dict_keys(['Number', 'Launch_date', 'class_time', 'friends'])"
      ]
     },
     "execution_count": 75,
     "metadata": {},
     "output_type": "execute_result"
    }
   ],
   "source": [
    "d5.keys()"
   ]
  },
  {
   "cell_type": "code",
   "execution_count": 76,
   "id": "bd515b9f-eeed-48c1-93cc-c68c9e5553ae",
   "metadata": {},
   "outputs": [
    {
     "data": {
      "text/plain": [
       "['Number', 'Launch_date', 'class_time', 'friends']"
      ]
     },
     "execution_count": 76,
     "metadata": {},
     "output_type": "execute_result"
    }
   ],
   "source": [
    "list(d5.keys())"
   ]
  },
  {
   "cell_type": "code",
   "execution_count": 77,
   "id": "022cf6ad-6e4f-46b1-81d8-9ab8fe19cde6",
   "metadata": {},
   "outputs": [
    {
     "data": {
      "text/plain": [
       "[[1, 5, 6, 4, 78, 54],\n",
       " (28, 12, 14),\n",
       " {'web_dev': 8,\n",
       "  'Data Science Master': 8,\n",
       "  'java with dsa and system design': 7},\n",
       " ['Amol', 'Tushar']]"
      ]
     },
     "execution_count": 77,
     "metadata": {},
     "output_type": "execute_result"
    }
   ],
   "source": [
    "list(d5.values())"
   ]
  },
  {
   "cell_type": "code",
   "execution_count": 78,
   "id": "da529fe0-4193-4666-a691-54bb122c3bc5",
   "metadata": {},
   "outputs": [
    {
     "data": {
      "text/plain": [
       "[('Number', [1, 5, 6, 4, 78, 54]),\n",
       " ('Launch_date', (28, 12, 14)),\n",
       " ('class_time',\n",
       "  {'web_dev': 8,\n",
       "   'Data Science Master': 8,\n",
       "   'java with dsa and system design': 7}),\n",
       " ('friends', ['Amol', 'Tushar'])]"
      ]
     },
     "execution_count": 78,
     "metadata": {},
     "output_type": "execute_result"
    }
   ],
   "source": [
    "list(d5.items())"
   ]
  },
  {
   "cell_type": "code",
   "execution_count": 81,
   "id": "8b3faa8c-5f9f-4cfc-8c3d-be318f2552ad",
   "metadata": {},
   "outputs": [
    {
     "data": {
      "text/plain": [
       "[1, 5, 6, 4, 78, 54]"
      ]
     },
     "execution_count": 81,
     "metadata": {},
     "output_type": "execute_result"
    }
   ],
   "source": [
    "d5.pop(\"Number\")"
   ]
  },
  {
   "cell_type": "code",
   "execution_count": 22,
   "id": "bfebc326-0170-4382-b54d-526bc9aafeef",
   "metadata": {},
   "outputs": [
    {
     "name": "stdin",
     "output_type": "stream",
     "text": [
      "Enter Your Marks 80\n"
     ]
    },
    {
     "name": "stdout",
     "output_type": "stream",
     "text": [
      "you will be a part of A Batch\n"
     ]
    }
   ],
   "source": [
    "##If condition\n",
    "Marks = int(input(\"Enter Your Marks\"))\n",
    "if Marks >= 80 :\n",
    "    print(\"you will be a part of A Batch\")\n",
    "elif Marks >= 60 and Marks < 80 :\n",
    "    print(\"You will be part of B Batch\")\n",
    "elif Marks >= 40 and Marks < 60 :\n",
    "    print(\"You will be part of C Batch\")\n",
    "else :\n",
    "    print(\"You will be part of D Batch\")"
   ]
  },
  {
   "cell_type": "code",
   "execution_count": 2,
   "id": "293f9f70-8421-47f8-a1b0-7fd9fcda0aff",
   "metadata": {},
   "outputs": [
    {
     "name": "stdin",
     "output_type": "stream",
     "text": [
      "enter laptop price 15000\n"
     ]
    },
    {
     "name": "stdout",
     "output_type": "stream",
     "text": [
      "i will check credit card no cost emi offer\n"
     ]
    }
   ],
   "source": [
    "Laptop_price = int(input(\"enter laptop price\"))\n",
    "if Laptop_price <= 10000:\n",
    "    print(\"I will buy this laptop\")\n",
    "elif Laptop_price >= 10000 and Laptop_price < 15000 :\n",
    "    print(\"i will check this offer\")\n",
    "elif Laptop_price >= 15000 and Laptop_price < 20000 :\n",
    "    print(\"i will check credit card no cost emi offer\")\n",
    "else :\n",
    "    print(\"i dont buy\")"
   ]
  },
  {
   "cell_type": "code",
   "execution_count": 1,
   "id": "8e6aebd4-2c12-40f0-9982-df7bc091b80d",
   "metadata": {},
   "outputs": [],
   "source": [
    "##For Loop\n",
    "l = [1,2,3,4,5,6,7,8,9]"
   ]
  },
  {
   "cell_type": "code",
   "execution_count": 2,
   "id": "28ed973d-812f-4b97-9fb0-233dcc71e1ec",
   "metadata": {},
   "outputs": [
    {
     "data": {
      "text/plain": [
       "[1, 2, 3, 4, 5, 6, 7, 8, 9]"
      ]
     },
     "execution_count": 2,
     "metadata": {},
     "output_type": "execute_result"
    }
   ],
   "source": [
    "l"
   ]
  },
  {
   "cell_type": "code",
   "execution_count": 6,
   "id": "4d5e61a4-e359-4f46-9d5c-3e502ac38048",
   "metadata": {},
   "outputs": [
    {
     "name": "stdout",
     "output_type": "stream",
     "text": [
      "2\n",
      "3\n",
      "4\n",
      "5\n",
      "6\n",
      "7\n",
      "8\n",
      "9\n",
      "10\n"
     ]
    },
    {
     "data": {
      "text/plain": [
       "[2, 3, 4, 5, 6, 7, 8, 9, 10]"
      ]
     },
     "execution_count": 6,
     "metadata": {},
     "output_type": "execute_result"
    }
   ],
   "source": [
    "l1 = []\n",
    "for i in l :\n",
    "    print(i+1)\n",
    "    l1.append(i+1)\n",
    "l1"
   ]
  },
  {
   "cell_type": "code",
   "execution_count": 7,
   "id": "a1015d42-bb98-4e4e-a5fc-35015ec0712a",
   "metadata": {},
   "outputs": [
    {
     "data": {
      "text/plain": [
       "[1, 2, 3, 4, 5, 6, 7, 8, 9]"
      ]
     },
     "execution_count": 7,
     "metadata": {},
     "output_type": "execute_result"
    }
   ],
   "source": [
    "l"
   ]
  },
  {
   "cell_type": "code",
   "execution_count": 9,
   "id": "e8ee1083-263f-4c11-bc03-1461e6b0a65b",
   "metadata": {},
   "outputs": [],
   "source": [
    "M = [\"Rohit\", \"Amol\", \"Tushar\", \"Sonu\"]"
   ]
  },
  {
   "cell_type": "code",
   "execution_count": 11,
   "id": "54114b17-c1cd-40fd-b80a-31b4388572ef",
   "metadata": {},
   "outputs": [
    {
     "data": {
      "text/plain": [
       "['Rohit', 'Amol', 'Tushar', 'Sonu']"
      ]
     },
     "execution_count": 11,
     "metadata": {},
     "output_type": "execute_result"
    }
   ],
   "source": [
    "M"
   ]
  },
  {
   "cell_type": "code",
   "execution_count": 13,
   "id": "730336d3-9155-48a8-80cf-28dd8a11bf85",
   "metadata": {},
   "outputs": [
    {
     "name": "stdout",
     "output_type": "stream",
     "text": [
      "Rohit\n",
      "Amol\n",
      "Tushar\n",
      "Sonu\n"
     ]
    }
   ],
   "source": [
    "l1 = []\n",
    "for n in M :\n",
    "    print(n)\n",
    "    l1.append(n.upper())"
   ]
  },
  {
   "cell_type": "code",
   "execution_count": 14,
   "id": "1b82e7ed-e8d2-4c30-b5cd-8e6b6507adaa",
   "metadata": {},
   "outputs": [
    {
     "data": {
      "text/plain": [
       "['ROHIT', 'AMOL', 'TUSHAR', 'SONU']"
      ]
     },
     "execution_count": 14,
     "metadata": {},
     "output_type": "execute_result"
    }
   ],
   "source": [
    "l1"
   ]
  },
  {
   "cell_type": "code",
   "execution_count": 15,
   "id": "350d38b7-dd60-4d07-ab82-34d2ff7b5255",
   "metadata": {},
   "outputs": [],
   "source": [
    "o = [1,2,3,4,5, \"Rohu\", \"laksh\", 254, 25.45, \"abc\"]"
   ]
  },
  {
   "cell_type": "code",
   "execution_count": 16,
   "id": "700ffb2b-6405-4aa1-a037-90fc4bb9dfd3",
   "metadata": {},
   "outputs": [
    {
     "data": {
      "text/plain": [
       "[1, 2, 3, 4, 5, 'Rohu', 'laksh', 254, 25.45, 'abc']"
      ]
     },
     "execution_count": 16,
     "metadata": {},
     "output_type": "execute_result"
    }
   ],
   "source": [
    "o"
   ]
  },
  {
   "cell_type": "code",
   "execution_count": 18,
   "id": "1b73f010-d42e-46d6-8a9c-31520073c98f",
   "metadata": {},
   "outputs": [],
   "source": [
    "l1 = []\n",
    "l2 = []\n",
    "\n",
    "for i in o :\n",
    "    if type(i) == int or type(i) == float :\n",
    "        l1.append(i)\n",
    "    else :\n",
    "        l2.append(i)\n",
    "            "
   ]
  },
  {
   "cell_type": "code",
   "execution_count": 19,
   "id": "7bbc253a-71fc-4235-8bad-3da9ada52ba4",
   "metadata": {},
   "outputs": [
    {
     "data": {
      "text/plain": [
       "[1, 2, 3, 4, 5, 254, 25.45]"
      ]
     },
     "execution_count": 19,
     "metadata": {},
     "output_type": "execute_result"
    }
   ],
   "source": [
    "l1"
   ]
  },
  {
   "cell_type": "code",
   "execution_count": 20,
   "id": "e33f5085-46c6-400f-a406-e55aea1faa4e",
   "metadata": {},
   "outputs": [
    {
     "data": {
      "text/plain": [
       "['Rohu', 'laksh', 'abc']"
      ]
     },
     "execution_count": 20,
     "metadata": {},
     "output_type": "execute_result"
    }
   ],
   "source": [
    "l2"
   ]
  },
  {
   "cell_type": "code",
   "execution_count": null,
   "id": "f22fc34c-43e4-4b84-a30e-114ef74a0818",
   "metadata": {},
   "outputs": [],
   "source": []
  }
 ],
 "metadata": {
  "kernelspec": {
   "display_name": "Python 3 (ipykernel)",
   "language": "python",
   "name": "python3"
  },
  "language_info": {
   "codemirror_mode": {
    "name": "ipython",
    "version": 3
   },
   "file_extension": ".py",
   "mimetype": "text/x-python",
   "name": "python",
   "nbconvert_exporter": "python",
   "pygments_lexer": "ipython3",
   "version": "3.10.8"
  }
 },
 "nbformat": 4,
 "nbformat_minor": 5
}
